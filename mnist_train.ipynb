{
  "cells": [
    {
      "metadata": {
        "_uuid": "1976eb3fb0f4524f8641833247f7eef69b6afebd"
      },
      "cell_type": "markdown",
      "source": "Importing required python modules\n1. pandas and numpy for reading csv files and saving the results\n2. matplotlib and seaborn for plotting graphs to visualise and make sense of data\n3. np_utils for \"one-hot encoding\" of labels"
    },
    {
      "metadata": {
        "_uuid": "8f2839f25d086af736a60e9eeb907d3b93b6e0e5",
        "_cell_guid": "b1076dfc-b9ad-4769-8c92-a6c4dae69d19",
        "trusted": true
      },
      "cell_type": "code",
      "source": "import pandas as pd\nimport numpy as np\nimport matplotlib.pyplot as plt\nimport matplotlib.image as mpimg\nimport seaborn as sns\nfrom keras.utils import np_utils\n%matplotlib inline",
      "execution_count": 1,
      "outputs": [
        {
          "output_type": "stream",
          "text": "/opt/conda/lib/python3.6/site-packages/h5py/__init__.py:36: FutureWarning: Conversion of the second argument of issubdtype from `float` to `np.floating` is deprecated. In future, it will be treated as `np.float64 == np.dtype(float).type`.\n  from ._conv import register_converters as _register_converters\nUsing TensorFlow backend.\n",
          "name": "stderr"
        }
      ]
    },
    {
      "metadata": {
        "_uuid": "4d261d218055b3551257657fb6ae7070789e04fb"
      },
      "cell_type": "markdown",
      "source": "Importing data from csv files:\n1. train.csv : The training data set, has 785 columns. The first column, called \"label\", is the digit that was drawn by the user. The rest of the columns contain the pixel-values of the associated image.\n2. test.csv: The test data set, (test.csv), is the same as the training set, except that it does not contain the \"label\" column.\n\nReading train data using pandas.\n\n"
    },
    {
      "metadata": {
        "_cell_guid": "79c7e3d0-c299-4dcb-8224-4455121ee9b0",
        "_uuid": "d629ff2d2480ee46fbb7e2d37f6b5fab8052498a",
        "trusted": true
      },
      "cell_type": "code",
      "source": "data = pd.read_csv(\"../input/train.csv\")\ndata = data.values\n#Taking labels(first column) out of data.\nlabel = data[:,0]\n\n# Drop 'label' column\ndata = data[:,1:]\n\nprint(\"Data loaded, ready to go!\")",
      "execution_count": 2,
      "outputs": [
        {
          "output_type": "stream",
          "text": "Data loaded, ready to go!\n",
          "name": "stdout"
        }
      ]
    },
    {
      "metadata": {
        "trusted": true,
        "_uuid": "d3753a7add38650a9b5e7efa0b5b8527a1411b40"
      },
      "cell_type": "code",
      "source": "#plot distribution of label values\ng = sns.countplot(label)",
      "execution_count": 3,
      "outputs": [
        {
          "output_type": "display_data",
          "data": {
            "text/plain": "<matplotlib.figure.Figure at 0x7fa77a364160>",
            "image/png": "[encoded data removed]"
          },
          "metadata": {}
        }
      ]
    },
    {
      "metadata": {
        "trusted": true,
        "collapsed": true,
        "_uuid": "31973fa0f4f20d2ffec4eb8e3668962fc014289c"
      },
      "cell_type": "markdown",
      "source": "Diving data and label into two parts: train and validation.\nWe have a separate test.csv file for testing our model predictions"
    },
    {
      "metadata": {
        "trusted": true,
        "_uuid": "053b9dba1b91c71305e19343230b7329538e19f2"
      },
      "cell_type": "code",
      "source": "#splitting data into train and valid\ntrain_data=data[:35000,:]\nvalid_data=data[35000:,:]\n\n#reshaping to make it in proper input shape for a neural network\ntrain_data = train_data.reshape(train_data.shape[0], 1, 28, 28).astype('float32')\nvalid_data = valid_data.reshape(valid_data.shape[0], 1, 28, 28).astype('float32')\n\n#normalise data\ntrain_data = train_data / 255\nvalid_data= valid_data/255\n\n#spliting label into train and valid\ntrain_label = label[:35000]\nvalid_label = label[35000:]\n\n#one-hot-encoding\n#Encode labels to one hot vectors (ex : 2 -> [0,0,1,0,0,0,0,0,0,0])\ntrain_label = np_utils.to_categorical(train_label)\nvalid_label = np_utils.to_categorical(valid_label)\n\n#print shape\nprint(\"train_data shape: \",train_data.shape)\nprint(\"train_label shape: \",train_label.shape)\nprint(\"valid_data shape: \",valid_data.shape)\nprint(\"valid_label shape: \",valid_label.shape)",
      "execution_count": 4,
      "outputs": [
        {
          "output_type": "stream",
          "text": "train_data shape:  (35000, 1, 28, 28)\ntrain_label shape:  (35000, 10)\nvalid_data shape:  (7000, 1, 28, 28)\nvalid_label shape:  (7000, 10)\n",
          "name": "stdout"
        }
      ]
    },
    {
      "metadata": {
        "_uuid": "1af9d926660eb3880ad0e4cb5c66c032f11ede59"
      },
      "cell_type": "markdown",
      "source": "Importing modules needed to build model\nKeras does provide a lot of capability for creating convolutional neural networks."
    },
    {
      "metadata": {
        "trusted": true,
        "_uuid": "4c3c18e6f503ce6a56e12c73edc1207c9a5d3b5d",
        "collapsed": true
      },
      "cell_type": "code",
      "source": "from keras.models import Sequential\nfrom keras.layers import Dense\nfrom keras.layers import Dropout\nfrom keras.layers import Flatten\nfrom keras.layers.convolutional import Conv2D\nfrom keras.layers.convolutional import MaxPooling2D\nfrom keras.utils import np_utils\nfrom keras import backend as K\nK.set_image_dim_ordering('th')\n\n# fix random seed for reproducibility\nseed = 7\nnp.random.seed(seed)",
      "execution_count": 5,
      "outputs": []
    },
    {
      "metadata": {
        "_uuid": "c69c0701c1084022f59dc1ffec33ec8886866402"
      },
      "cell_type": "markdown",
      "source": "Define a function to create a model"
    },
    {
      "metadata": {
        "trusted": true,
        "collapsed": true,
        "_uuid": "dff559899ab9a7705d9c2dcec5cdbdf61d4ebf07"
      },
      "cell_type": "code",
      "source": "def create_model():\n    # create model\n    model = Sequential()\n    model.add(Conv2D(32, (5, 5), input_shape=(1, 28, 28), activation='relu'))\n    model.add(MaxPooling2D(pool_size=(2, 2)))\n    model.add(Dropout(0.2))\n    model.add(Flatten())\n    model.add(Dense(128, activation='relu'))\n    model.add(Dense(10, activation='softmax'))\n    # Compile model\n    model.compile(loss='categorical_crossentropy', optimizer='adam', metrics=['accuracy'])\n    return model",
      "execution_count": 6,
      "outputs": []
    },
    {
      "metadata": {
        "_uuid": "53f4a7b167027287b525314767a9267b5ddaf7cf"
      },
      "cell_type": "markdown",
      "source": "Passing training and validation data along with labels to model"
    },
    {
      "metadata": {
        "trusted": true,
        "_uuid": "b1124814d1f7d24b2a1e33cec590ff92807cfee3"
      },
      "cell_type": "code",
      "source": "# build the model\nmodel = create_model()\n# Fit the model\nmodel.fit(train_data, train_label, validation_data=(valid_data, valid_label), epochs=10, batch_size=200, verbose=2)\n",
      "execution_count": 7,
      "outputs": [
        {
          "output_type": "stream",
          "text": "Train on 35000 samples, validate on 7000 samples\nEpoch 1/10\n - 5s - loss: 0.3262 - acc: 0.9066 - val_loss: 0.1186 - val_acc: 0.9660\nEpoch 2/10\n - 2s - loss: 0.0956 - acc: 0.9716 - val_loss: 0.0731 - val_acc: 0.9774\nEpoch 3/10\n - 2s - loss: 0.0646 - acc: 0.9810 - val_loss: 0.0633 - val_acc: 0.9804\nEpoch 4/10\n - 2s - loss: 0.0513 - acc: 0.9847 - val_loss: 0.0563 - val_acc: 0.9829\nEpoch 5/10\n - 2s - loss: 0.0408 - acc: 0.9872 - val_loss: 0.0514 - val_acc: 0.9844\nEpoch 6/10\n - 2s - loss: 0.0309 - acc: 0.9904 - val_loss: 0.0570 - val_acc: 0.9833\nEpoch 7/10\n - 2s - loss: 0.0282 - acc: 0.9916 - val_loss: 0.0655 - val_acc: 0.9800\nEpoch 8/10\n - 2s - loss: 0.0231 - acc: 0.9929 - val_loss: 0.0478 - val_acc: 0.9859\nEpoch 9/10\n - 2s - loss: 0.0211 - acc: 0.9937 - val_loss: 0.0521 - val_acc: 0.9854\nEpoch 10/10\n - 2s - loss: 0.0190 - acc: 0.9939 - val_loss: 0.0507 - val_acc: 0.9851\n",
          "name": "stdout"
        },
        {
          "output_type": "execute_result",
          "execution_count": 7,
          "data": {
            "text/plain": "<keras.callbacks.History at 0x7fa756f745c0>"
          },
          "metadata": {}
        }
      ]
    },
    {
      "metadata": {
        "trusted": true,
        "_uuid": "23e342cce3be6515dcfb10bd780b591bfbaeb2a3"
      },
      "cell_type": "code",
      "source": "# Final evaluation of the model\nscores = model.evaluate(valid_data, valid_label, verbose=0)\nprint(\"CNN Error: %.2f%%\" % (100-scores[1]*100))",
      "execution_count": 8,
      "outputs": [
        {
          "output_type": "stream",
          "text": "CNN Error: 1.49%\n",
          "name": "stdout"
        }
      ]
    },
    {
      "metadata": {
        "_uuid": "25377bafcf1ca418f32cab5ab4f68558c0a916bd"
      },
      "cell_type": "markdown",
      "source": "Exciting! we have trained our model\nSaving model weights for later use"
    },
    {
      "metadata": {
        "trusted": true,
        "_uuid": "dfe9153fbbdde64a4d5d754f9ce1e466095e018a"
      },
      "cell_type": "code",
      "source": "model.save(\"model.h5\")\nprint(\"model weights saved in model.h5 file\")",
      "execution_count": 9,
      "outputs": [
        {
          "output_type": "stream",
          "text": "model weights saved in model.h5 file\n",
          "name": "stdout"
        }
      ]
    },
    {
      "metadata": {
        "_uuid": "7998d66d539b2f50f9a70e735f39484240c3835b"
      },
      "cell_type": "markdown",
      "source": "Saving model information in .json file"
    },
    {
      "metadata": {
        "trusted": true,
        "_uuid": "2f8de0384de4e7395cb43ce0e593b4479f80fe34"
      },
      "cell_type": "code",
      "source": "from keras.models import model_from_json\nmodel_json = model.to_json()\nwith open(\"model.json\", \"w\") as json_file:\n    json_file.write(model_json)\nprint(\"model saved as model.json file\")",
      "execution_count": 10,
      "outputs": [
        {
          "output_type": "stream",
          "text": "model saved as model.json file\n",
          "name": "stdout"
        }
      ]
    }
  ],
  "metadata": {
    "kernelspec": {
      "display_name": "Python 3",
      "language": "python",
      "name": "python3"
    },
    "language_info": {
      "name": "python",
      "version": "3.6.4",
      "mimetype": "text/x-python",
      "codemirror_mode": {
        "name": "ipython",
        "version": 3
      },
      "pygments_lexer": "ipython3",
      "nbconvert_exporter": "python",
      "file_extension": ".py"
    }
  },
  "nbformat": 4,
  "nbformat_minor": 1
}